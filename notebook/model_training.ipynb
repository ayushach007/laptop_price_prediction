{
 "cells": [
  {
   "cell_type": "code",
   "execution_count": 1,
   "metadata": {},
   "outputs": [],
   "source": [
    "import os"
   ]
  },
  {
   "cell_type": "code",
   "execution_count": 2,
   "metadata": {},
   "outputs": [],
   "source": [
    "os.chdir('../')"
   ]
  },
  {
   "cell_type": "code",
   "execution_count": 3,
   "metadata": {},
   "outputs": [],
   "source": [
    "import pandas as pd\n",
    "import numpy as np\n",
    "from sklearn.ensemble import GradientBoostingRegressor\n",
    "from src.laptop_price_prediction.logger import logging\n",
    "from src.laptop_price_prediction.utils.common import save_object, read_yaml, create_directories, model_building_and_evaluation, save_json\n",
    "from dataclasses import dataclass\n",
    "from pathlib import Path\n",
    "from src.laptop_price_prediction.constants.constant import *"
   ]
  },
  {
   "cell_type": "code",
   "execution_count": 4,
   "metadata": {},
   "outputs": [],
   "source": [
    "@dataclass\n",
    "class ModelBuildingConfig:\n",
    "    model_path: Path\n",
    "    train_metrics_path: Path\n",
    "    test_metrics_path: Path"
   ]
  },
  {
   "cell_type": "code",
   "execution_count": 5,
   "metadata": {},
   "outputs": [],
   "source": [
    "class ConfigurationManager:\n",
    "    def __init__(self, config_file_path = CONFIG_FILE_PATH):\n",
    "        \n",
    "\n",
    "        try:\n",
    "            self.config = read_yaml(config_file_path)\n",
    "            logging.info(f\"Configuration file loaded successfully\")\n",
    "\n",
    "            logging.info(f'Creating directories to stor artifacts')\n",
    "            create_directories([self.config.artifacts])\n",
    "        \n",
    "        except Exception as e:\n",
    "            logging.error(f\"Error loading configuration file: {e}\")\n",
    "            raise e\n",
    "\n",
    "    def get_model_building_config(self) -> ModelBuildingConfig:\n",
    "        try:\n",
    "            config = self.config.model\n",
    "            logging.info(f\"Data Ingestion Configuration loaded successfully\")\n",
    "\n",
    "            logging.info(f\"Creating directories to store data\")\n",
    "            create_directories([config.root_dir])\n",
    "\n",
    "            logging.info(f\"Successfully created directories to store data\")\n",
    "\n",
    "            logging.info(f\"Assigning paths to raw, train and test data\")\n",
    "            \n",
    "            data_ingestion_config = ModelBuildingConfig(\n",
    "                model_path=config.model_path,\n",
    "                train_metrics_path=config.train_metrics_path,\n",
    "                test_metrics_path=config.test_metrics_path\n",
    "            )\n",
    "\n",
    "            logging.info(f\"Paths assigned successfully\")\n",
    "            \n",
    "            return data_ingestion_config\n",
    "        \n",
    "        except Exception as e:\n",
    "            logging.error(f\"Error loading data ingestion configuration: {e}\")\n",
    "            raise e"
   ]
  },
  {
   "cell_type": "code",
   "execution_count": 6,
   "metadata": {},
   "outputs": [],
   "source": [
    "class ModelBuilding:\n",
    "    def __init__(self, config: ModelBuildingConfig):\n",
    "        self.config = config\n",
    "\n",
    "    def initiate_model_building(self, train_arr: Path, test_arr: Path):\n",
    "        try:\n",
    "            logging.info(f\"Reading train and test data\")\n",
    "            train_data = np.load(train_arr) \n",
    "            test_data = np.load(test_arr)\n",
    "\n",
    "            logging.info(f\"Data read successfully\")\n",
    "\n",
    "            logging.info(f\"Splittinf the data for model building\")\n",
    "            X_train = train_data[:, :-1]\n",
    "            y_train = train_data[:, -1]\n",
    "\n",
    "            logging.info(f\"Successfully split the training data for model building\")\n",
    "\n",
    "            X_test = test_data[:, :-1]\n",
    "            y_test = test_data[:, -1]\n",
    "\n",
    "            logging.info(f\"Successfully split the test data for model building\")\n",
    "\n",
    "            logging.info(f\"Initiating model building\")\n",
    "\n",
    "            results = model_building_and_evaluation(X_train, y_train, X_test, y_test)\n",
    "\n",
    "            logging.info(f\"Model building completed successfully\")\n",
    "\n",
    "            logging.info(f\"Saving model to {self.config.model_path}\")\n",
    "            save_object(results['model'], self.config.model_path)\n",
    "\n",
    "            # save the metrics\n",
    "            logging.info(f\"Saving train metrics to {self.config.train_metrics_path}\")\n",
    "            save_json(results['train'], self.config.train_metrics_path)\n",
    "\n",
    "            logging.info(f\"Saving test metrics to {self.config.test_metrics_path}\")\n",
    "\n",
    "            save_json(results['test'], self.config.test_metrics_path)\n",
    "\n",
    "            logging.info(f\"Model building completed successfully\")\n",
    "\n",
    "        except Exception as e:\n",
    "            logging.error(f\"Error building model: {e}\")\n",
    "            raise e\n",
    "            "
   ]
  },
  {
   "cell_type": "code",
   "execution_count": 7,
   "metadata": {},
   "outputs": [
    {
     "name": "stdout",
     "output_type": "stream",
     "text": [
      "[ 2024-10-05 18:54:52,926 ] 20 root - INFO - Configuration file loaded successfully\n",
      "[ 2024-10-05 18:54:52,927 ] 20 root - INFO - Creating directories to stor artifacts\n",
      "[ 2024-10-05 18:54:52,928 ] 20 root - INFO - Creating directories\n",
      "[ 2024-10-05 18:54:52,930 ] 20 root - INFO - Directories created successfully\n",
      "[ 2024-10-05 18:54:52,930 ] 20 root - INFO - Data Ingestion Configuration loaded successfully\n",
      "[ 2024-10-05 18:54:52,931 ] 20 root - INFO - Creating directories to store data\n",
      "[ 2024-10-05 18:54:52,932 ] 20 root - INFO - Creating directories\n",
      "[ 2024-10-05 18:54:52,933 ] 20 root - INFO - Directories created successfully\n",
      "[ 2024-10-05 18:54:52,933 ] 20 root - INFO - Successfully created directories to store data\n",
      "[ 2024-10-05 18:54:52,934 ] 20 root - INFO - Assigning paths to raw, train and test data\n",
      "[ 2024-10-05 18:54:52,935 ] 20 root - INFO - Paths assigned successfully\n",
      "[ 2024-10-05 18:54:52,936 ] 20 root - INFO - Reading train and test data\n",
      "[ 2024-10-05 18:54:52,938 ] 20 root - INFO - Data read successfully\n",
      "[ 2024-10-05 18:54:52,939 ] 20 root - INFO - Splittinf the data for model building\n",
      "[ 2024-10-05 18:54:52,940 ] 20 root - INFO - Successfully split the training data for model building\n",
      "[ 2024-10-05 18:54:52,941 ] 20 root - INFO - Successfully split the test data for model building\n",
      "[ 2024-10-05 18:54:52,941 ] 20 root - INFO - Initiating model building\n",
      "[ 2024-10-05 18:54:52,942 ] 20 root - INFO - Building and evaluating model\n",
      "[ 2024-10-05 18:54:52,943 ] 20 root - INFO - Turning hyperparameters\n",
      "[ 2024-10-05 18:54:52,943 ] 20 root - INFO - Performing grid search\n",
      "[ 2024-10-05 18:54:55,379 ] 20 root - INFO - Evaluating model\n",
      "[ 2024-10-05 18:54:55,396 ] 20 root - INFO - Model built and evaluated successfully\n",
      "[ 2024-10-05 18:54:55,397 ] 20 root - INFO - Model building completed successfully\n",
      "[ 2024-10-05 18:54:55,397 ] 20 root - INFO - Saving model to artifacts/model/model.pkl\n",
      "[ 2024-10-05 18:54:55,398 ] 20 root - INFO - Saving object to file\n",
      "[ 2024-10-05 18:54:55,401 ] 20 root - INFO - Object saved successfully\n",
      "[ 2024-10-05 18:54:55,402 ] 20 root - INFO - Saving train metrics to artifacts/model/train_metrics.json\n",
      "[ 2024-10-05 18:54:55,402 ] 20 root - INFO - Saving data to JSON file\n",
      "[ 2024-10-05 18:54:55,404 ] 20 root - INFO - Data saved to JSON file successfully\n",
      "[ 2024-10-05 18:54:55,407 ] 20 root - INFO - Saving test metrics to artifacts/model/test_metrics.json\n",
      "[ 2024-10-05 18:54:55,408 ] 20 root - INFO - Saving data to JSON file\n",
      "[ 2024-10-05 18:54:55,420 ] 20 root - INFO - Data saved to JSON file successfully\n",
      "[ 2024-10-05 18:54:55,421 ] 20 root - INFO - Model building completed successfully\n"
     ]
    }
   ],
   "source": [
    "if __name__ == '__main__':\n",
    "    try:\n",
    "        config_manager = ConfigurationManager()\n",
    "        model_building_config = config_manager.get_model_building_config()\n",
    "        model_building = ModelBuilding(model_building_config)\n",
    "        model_building.initiate_model_building(train_arr=r'C:\\Users\\ayush\\OneDrive - Sujal Dhungana\\Laptop Price Prediction\\artifacts\\data_transformation\\train_arr.npy', test_arr=r'C:\\Users\\ayush\\OneDrive - Sujal Dhungana\\Laptop Price Prediction\\artifacts\\data_transformation\\train_arr.npy')\n",
    "\n",
    "    except Exception as e:\n",
    "        logging.error(f\"Error building model: {e}\")\n",
    "        raise e\n"
   ]
  },
  {
   "cell_type": "code",
   "execution_count": null,
   "metadata": {},
   "outputs": [],
   "source": []
  }
 ],
 "metadata": {
  "kernelspec": {
   "display_name": "laptop",
   "language": "python",
   "name": "python3"
  },
  "language_info": {
   "codemirror_mode": {
    "name": "ipython",
    "version": 3
   },
   "file_extension": ".py",
   "mimetype": "text/x-python",
   "name": "python",
   "nbconvert_exporter": "python",
   "pygments_lexer": "ipython3",
   "version": "3.11.0"
  }
 },
 "nbformat": 4,
 "nbformat_minor": 2
}
