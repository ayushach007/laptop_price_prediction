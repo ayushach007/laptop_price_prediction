{
 "cells": [
  {
   "cell_type": "code",
   "execution_count": 1,
   "metadata": {},
   "outputs": [],
   "source": [
    "\n",
    "import os"
   ]
  },
  {
   "cell_type": "code",
   "execution_count": 2,
   "metadata": {},
   "outputs": [],
   "source": [
    "os.chdir('../')"
   ]
  },
  {
   "cell_type": "code",
   "execution_count": 3,
   "metadata": {},
   "outputs": [],
   "source": [
    "import pandas as pd\n",
    "import numpy as np\n",
    "from src.laptop_price_prediction.utils.common import load_object\n",
    "from src.laptop_price_prediction.logger import logging"
   ]
  },
  {
   "cell_type": "code",
   "execution_count": 4,
   "metadata": {},
   "outputs": [],
   "source": [
    "class Prediction():\n",
    "    def __init__(self) -> None:\n",
    "        pass\n",
    "\n",
    "    def predict(self, features):\n",
    "        try:\n",
    "            logging.info('Loading preprocessing pipeline')\n",
    "            preprocessor = load_object('artifacts/data_transformation/preprocessor.pkl')\n",
    "            logging.info('Successfully loaded preprocessing pipeline')\n",
    "\n",
    "            logging.info('Loading model')\n",
    "            model = load_object('artifacts/model/model.pkl')\n",
    "            logging.info('Successfully loaded model')\n",
    "\n",
    "            logging.info('Preprocessing input features')\n",
    "            features = preprocessor.transform(features)\n",
    "            logging.info('Successfully preprocessed input features')\n",
    "\n",
    "            logging.info('Predicting price')\n",
    "            price = model.predict(features)\n",
    "            logging.info('Successfully predicted price')\n",
    "\n",
    "            return price\n",
    "        \n",
    "        except Exception as e:\n",
    "            logging.error(f'Error occured while predicting price: {e}')\n",
    "            return None\n"
   ]
  },
  {
   "cell_type": "code",
   "execution_count": 5,
   "metadata": {},
   "outputs": [],
   "source": [
    "class CustomData():\n",
    "    def __init__(self,\n",
    "                 Company: str,\n",
    "                 Product: str,\n",
    "                 Type_Name: str,\n",
    "                 Inched: float,\n",
    "                 ScreenResolution: str,\n",
    "                 Cpu: str,\n",
    "                 Ram: int,\n",
    "                 Memory: str,\n",
    "                 Gpu: str,\n",
    "                 OpSys: str,\n",
    "                 Weight: float):\n",
    "\n",
    "        try:\n",
    "            logging.info('Creating custom data object')\n",
    "\n",
    "            self.Company = Company\n",
    "            self.Product = Product\n",
    "            self.Type_Name = Type_Name\n",
    "            self.Inched = Inched\n",
    "            self.ScreenResolution = ScreenResolution\n",
    "            self.Cpu = Cpu\n",
    "            self.Ram = Ram\n",
    "            self.Memory = Memory\n",
    "            self.Gpu = Gpu\n",
    "            self.OpSys = OpSys\n",
    "            self.Weight = Weight\n",
    "\n",
    "            logging.info('Successfully created custom data object')\n",
    "\n",
    "        except Exception as e:\n",
    "            logging.error(f'Error occured while creating custom data object: {e}')\n",
    "            return None\n",
    "        \n",
    "\n",
    "    \n",
    "    def get_data_as_dataframe(self):\n",
    "        try:\n",
    "            logging.info('Creating dataframe from custom data')\n",
    "            data = {\n",
    "                'Company': [self.Company],\n",
    "                'Product': [self.Product],\n",
    "                'TypeName': [self.Type_Name],\n",
    "                'Inches': [self.Inched],\n",
    "                'ScreenResolution': [self.ScreenResolution],\n",
    "                'Cpu': [self.Cpu],\n",
    "                'Ram': [self.Ram],\n",
    "                'Memory': [self.Memory],\n",
    "                'Gpu': [self.Gpu],\n",
    "                'OpSys': [self.OpSys],\n",
    "                'Weight': [self.Weight]\n",
    "            }\n",
    "\n",
    "            logging.info('Successfully created dataframe from custom data')\n",
    "\n",
    "            return pd.DataFrame(data)\n",
    "        \n",
    "        except Exception as e:\n",
    "            logging.error(f'Error occured while creating dataframe from custom data: {e}')\n",
    "            return None"
   ]
  },
  {
   "cell_type": "code",
   "execution_count": 6,
   "metadata": {},
   "outputs": [
    {
     "name": "stdout",
     "output_type": "stream",
     "text": [
      "[ 2024-10-05 21:49:55,761 ] 20 root - INFO - Creating custom data object\n",
      "[ 2024-10-05 21:49:55,763 ] 20 root - INFO - Successfully created custom data object\n",
      "[ 2024-10-05 21:49:55,763 ] 20 root - INFO - Creating dataframe from custom data\n",
      "[ 2024-10-05 21:49:55,765 ] 20 root - INFO - Successfully created dataframe from custom data\n",
      "[ 2024-10-05 21:49:55,767 ] 20 root - INFO - Loading preprocessing pipeline\n",
      "[ 2024-10-05 21:49:55,768 ] 20 root - INFO - Loading object from file\n",
      "[ 2024-10-05 21:49:55,775 ] 20 root - INFO - Object loaded successfully\n",
      "[ 2024-10-05 21:49:55,776 ] 20 root - INFO - Successfully loaded preprocessing pipeline\n",
      "[ 2024-10-05 21:49:55,777 ] 20 root - INFO - Loading model\n",
      "[ 2024-10-05 21:49:55,778 ] 20 root - INFO - Loading object from file\n",
      "[ 2024-10-05 21:49:55,792 ] 20 root - INFO - Object loaded successfully\n",
      "[ 2024-10-05 21:49:55,794 ] 20 root - INFO - Successfully loaded model\n",
      "[ 2024-10-05 21:49:55,796 ] 20 root - INFO - Preprocessing input features\n",
      "[ 2024-10-05 21:49:55,805 ] 20 root - INFO - Successfully preprocessed input features\n",
      "[ 2024-10-05 21:49:55,805 ] 20 root - INFO - Predicting price\n",
      "[ 2024-10-05 21:49:55,807 ] 20 root - INFO - Successfully predicted price\n",
      "Predicted price: [243.87851554]\n"
     ]
    }
   ],
   "source": [
    "data = CustomData('HP','Stream 11-Y000na','Netbook',11.6,'1366x768','Intel Celeron Dual Core N3060 1.6GHz',2,'32GB Flash Storage','Intel HD Graphics 400','Windows 10',1.17)\n",
    "\n",
    "features = data.get_data_as_dataframe()\n",
    "\n",
    "prediction = Prediction()\n",
    "price = prediction.predict(features)\n",
    "\n",
    "print(f'Predicted price: {price}')\n"
   ]
  },
  {
   "cell_type": "code",
   "execution_count": null,
   "metadata": {},
   "outputs": [],
   "source": []
  }
 ],
 "metadata": {
  "kernelspec": {
   "display_name": "laptop",
   "language": "python",
   "name": "python3"
  },
  "language_info": {
   "codemirror_mode": {
    "name": "ipython",
    "version": 3
   },
   "file_extension": ".py",
   "mimetype": "text/x-python",
   "name": "python",
   "nbconvert_exporter": "python",
   "pygments_lexer": "ipython3",
   "version": "3.11.0"
  }
 },
 "nbformat": 4,
 "nbformat_minor": 2
}
